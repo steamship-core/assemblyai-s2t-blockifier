{
 "cells": [
  {
   "cell_type": "markdown",
   "metadata": {},
   "source": [
    "# Python Client Use\n",
    "\n",
    "This notebook demonstrates simple use of this plugin via the Steamship client."
   ]
  },
  {
   "cell_type": "code",
   "execution_count": 5,
   "metadata": {
    "pycharm": {
     "name": "#%%\n"
    }
   },
   "outputs": [],
   "source": [
    "# NOTE!\n",
    "# You will likely want to set your own STEAMSHIP_PROFILE here, or change it to None!\n",
    "STEAMSHIP_PROFILE=\"staging\"\n",
    "\n",
    "# This should match the value found in the `handle` field of `steamship.json`\n",
    "PLUGIN_HANDLE=\"audio-to-text-blockifier-default\""
   ]
  },
  {
   "cell_type": "code",
   "execution_count": 10,
   "metadata": {
    "pycharm": {
     "name": "#%%\n"
    }
   },
   "outputs": [
    {
     "name": "stdout",
     "output_type": "stream",
     "text": [
      "You are operating within workspace: default\n"
     ]
    }
   ],
   "source": [
    "# Create our client.\n",
    "from steamship import Steamship, PluginInstance, File, Block, MimeTypes\n",
    "ship = Steamship(profile=STEAMSHIP_PROFILE)\n",
    "\n",
    "print(f\"You are operating within workspace: {ship.config.space_handle or 'default'}\")"
   ]
  },
  {
   "cell_type": "code",
   "execution_count": 10,
   "metadata": {
    "pycharm": {
     "name": "#%%\n"
    }
   },
   "outputs": [],
   "source": []
  },
  {
   "cell_type": "code",
   "execution_count": 34,
   "metadata": {
    "pycharm": {
     "name": "#%%\n"
    }
   },
   "outputs": [],
   "source": [
    "from os import path\n",
    "\n",
    "# Upload a file\n",
    "file_path = path.join('..', 'test', 'data', 'small_utterances.m4a')\n",
    "file = File.create(ship, filename=file_path, mime_type=MimeTypes.MP3).data"
   ]
  },
  {
   "cell_type": "code",
   "execution_count": 35,
   "metadata": {
    "pycharm": {
     "name": "#%%\n"
    }
   },
   "outputs": [
    {
     "name": "stdout",
     "output_type": "stream",
     "text": [
      "Your plugin handle is: sassy-meadow-9kfbu\n"
     ]
    }
   ],
   "source": [
    "# Create a blockifier to parse the CSV file\n",
    "blockifier = PluginInstance.create(ship, plugin_handle=PLUGIN_HANDLE).data\n",
    "\n",
    "print(f\"Your plugin handle is: {blockifier.handle}\")"
   ]
  },
  {
   "cell_type": "code",
   "execution_count": 36,
   "metadata": {
    "pycharm": {
     "name": "#%%\n"
    }
   },
   "outputs": [
    {
     "name": "stdout",
     "output_type": "stream",
     "text": [
      "Your blockify task ID is 6F74C472-C454-409A-8201-A7024F35031D\n"
     ]
    }
   ],
   "source": [
    "blockify_task = file.blockify(blockifier.handle)\n",
    "print(f\"Your blockify task ID is {blockify_task.task.task_id}\")"
   ]
  },
  {
   "cell_type": "code",
   "execution_count": 37,
   "metadata": {
    "pycharm": {
     "name": "#%%\n"
    }
   },
   "outputs": [],
   "source": [
    "# All plugin operations are asynchronous.\n",
    "# Calling .wait() will wait until a timeout is reached or until we have a result\n",
    "blockify_task.wait()"
   ]
  },
  {
   "cell_type": "code",
   "execution_count": 38,
   "outputs": [
    {
     "data": {
      "text/plain": "Task(client=Steamship(config=Configuration(api_key='05734E32-F33B-49E0-BD78-FB75F5F36B24', api_base=HttpUrl('https://api.staging.steamship.com/api/v1/', scheme='https', host='api.staging.steamship.com', tld='com', host_type='domain', port='443', path='/api/v1/'), app_base=HttpUrl('https://apps.staging.steamship.com/', scheme='https', host='apps.staging.steamship.com', tld='com', host_type='domain', port='443', path='/'), web_base=HttpUrl('https://app.staging.steamship.com/', scheme='https', host='app.staging.steamship.com', tld='com', host_type='domain', port='443', path='/'), space_id='CB587FFD-62AD-480D-96C6-5FE89AC9C7EA', space_handle='default', profile='staging')), task_id='6F74C472-C454-409A-8201-A7024F35031D', user_id='D12B7EDA-6631-43DE-A1A2-F814C3F3848B', space_id='CB587FFD-62AD-480D-96C6-5FE89AC9C7EA', input='{\"id\":\"218897CE-059D-4691-9EC1-71066762F9DD\",\"type\":\"file\",\"pluginInstance\":\"sassy-meadow-9kfbu\"}', output='{\"file\":{\"blocks\":[{\"tags\":[{\"kind\":\"speaker\",\"endIdx\":70,\"name\":\"A\",\"startIdx\":0},{\"value\":{\"end_time\":1254,\"start_time\":730},\"kind\":\"timestamp\",\"endIdx\":6,\"name\":\"Hello.\",\"startIdx\":0},{\"value\":{\"end_time\":1734,\"start_time\":1412},\"kind\":\"timestamp\",\"endIdx\":8,\"name\":\"I\",\"startIdx\":7},{\"value\":{\"start_time\":1772,\"end_time\":2010},\"kind\":\"timestamp\",\"endIdx\":13,\"name\":\"love\",\"startIdx\":9},{\"value\":{\"end_time\":2274,\"start_time\":2060},\"kind\":\"timestamp\",\"endIdx\":17,\"name\":\"hot\",\"startIdx\":14},{\"value\":{\"start_time\":2312,\"end_time\":2890},\"kind\":\"timestamp\",\"endIdx\":25,\"name\":\"coffee.\",\"startIdx\":18},{\"value\":{\"end_time\":3258,\"start_time\":3010},\"kind\":\"timestamp\",\"endIdx\":27,\"name\":\"I\",\"startIdx\":26},{\"value\":{\"end_time\":3538,\"start_time\":3284},\"kind\":\"timestamp\",\"endIdx\":32,\"name\":\"hate\",\"startIdx\":28},{\"value\":{\"end_time\":3802,\"start_time\":3574},\"kind\":\"timestamp\",\"endIdx\":37,\"name\":\"cold\",\"startIdx\":33},{\"value\":{\"end_time\":4342,\"start_time\":3826},\"kind\":\"timestamp\",\"endIdx\":45,\"name\":\"coffee.\",\"startIdx\":38},{\"value\":{\"start_time\":4426,\"end_time\":4726},\"kind\":\"timestamp\",\"endIdx\":49,\"name\":\"I\\'d\",\"startIdx\":46},{\"value\":{\"end_time\":4842,\"start_time\":4738},\"kind\":\"timestamp\",\"endIdx\":54,\"name\":\"like\",\"startIdx\":50},{\"value\":{\"start_time\":4856,\"end_time\":4962},\"kind\":\"timestamp\",\"endIdx\":57,\"name\":\"to\",\"startIdx\":55},{\"value\":{\"start_time\":4976,\"end_time\":5082},\"kind\":\"timestamp\",\"endIdx\":60,\"name\":\"go\",\"startIdx\":58},{\"value\":{\"end_time\":5238,\"start_time\":5096},\"kind\":\"timestamp\",\"endIdx\":63,\"name\":\"to\",\"startIdx\":61},{\"value\":{\"end_time\":5410,\"start_time\":5264},\"kind\":\"timestamp\",\"endIdx\":70,\"name\":\"Paris.\",\"startIdx\":64},{\"value\":{\"relevance\":0.5921521782875061,\"span_text\":\"Hello. I love hot coffee. I hate cold coffee. I\\'d like to go to Paris.\"},\"kind\":\"topic\",\"endIdx\":70,\"name\":\"Food&Drink>DiningOut\",\"startIdx\":0},{\"value\":{\"span_text\":\"Hello. I love hot coffee. I hate cold coffee. I\\'d like to go to Paris.\",\"relevance\":0.018862053751945496},\"kind\":\"topic\",\"endIdx\":70,\"name\":\"Food&Drink>WorldCuisines\",\"startIdx\":0},{\"value\":{\"span_text\":\"Hello. I love hot coffee. I hate cold coffee. I\\'d like to go to Paris.\",\"relevance\":0.003618531161919236},\"kind\":\"topic\",\"endIdx\":70,\"name\":\"BusinessAndFinance>Industries>HospitalityIndustry\",\"startIdx\":0},{\"value\":{\"relevance\":0.001829479238949716,\"span_text\":\"Hello. I love hot coffee. I hate cold coffee. I\\'d like to go to Paris.\"},\"kind\":\"topic\",\"endIdx\":70,\"name\":\"Food&Drink\",\"startIdx\":0},{\"value\":{\"relevance\":0.0007943386444821954,\"span_text\":\"Hello. I love hot coffee. I hate cold coffee. I\\'d like to go to Paris.\"},\"kind\":\"topic\",\"endIdx\":70,\"name\":\"Travel>TravelLocations>SouthAmericaTravel\",\"startIdx\":0},{\"value\":{\"span_text\":\"Hello. I love hot coffee. I hate cold coffee. I\\'d like to go to Paris.\",\"relevance\":0.000783938798122108},\"kind\":\"topic\",\"endIdx\":70,\"name\":\"BusinessAndFinance>Economy>GasolinePrices\",\"startIdx\":0},{\"value\":{\"span_text\":\"Hello. I love hot coffee. I hate cold coffee. I\\'d like to go to Paris.\",\"relevance\":0.0006748089217580855},\"kind\":\"topic\",\"endIdx\":70,\"name\":\"Automotive>AutoType>ConceptCars\",\"startIdx\":0},{\"value\":{\"span_text\":\"Hello. I love hot coffee. I hate cold coffee. I\\'d like to go to Paris.\",\"relevance\":0.0006600142223760486},\"kind\":\"topic\",\"endIdx\":70,\"name\":\"BooksAndLiterature>TravelBooks\",\"startIdx\":0},{\"value\":{\"span_text\":\"Hello. I love hot coffee. I hate cold coffee. I\\'d like to go to Paris.\",\"relevance\":0.0006546513759531081},\"kind\":\"topic\",\"endIdx\":70,\"name\":\"Food&Drink>Non-AlcoholicBeverages\",\"startIdx\":0},{\"value\":{\"span_text\":\"Hello. I love hot coffee. I hate cold coffee. I\\'d like to go to Paris.\",\"relevance\":0.0005515002994798124},\"kind\":\"topic\",\"endIdx\":70,\"name\":\"EventsAndAttractions>Bars&Restaurants\",\"startIdx\":0},{\"value\":{\"relevance\":1},\"kind\":\"topic_summary\",\"name\":\"Food&Drink>DiningOut\"},{\"value\":{\"relevance\":0.031853388994932175},\"kind\":\"topic_summary\",\"name\":\"Food&Drink>WorldCuisines\"},{\"value\":{\"relevance\":0.0061108130030334},\"kind\":\"topic_summary\",\"name\":\"BusinessAndFinance>Industries>HospitalityIndustry\"},{\"value\":{\"relevance\":0.003089542267844081},\"kind\":\"topic_summary\",\"name\":\"Food&Drink\"},{\"value\":{\"relevance\":0.0013414433924481273},\"kind\":\"topic_summary\",\"name\":\"Travel>TravelLocations>SouthAmericaTravel\"},{\"value\":{\"relevance\":0.0013238806277513504},\"kind\":\"topic_summary\",\"name\":\"BusinessAndFinance>Economy>GasolinePrices\"},{\"value\":{\"relevance\":0.0011395870242267847},\"kind\":\"topic_summary\",\"name\":\"Automotive>AutoType>ConceptCars\"},{\"value\":{\"relevance\":0.0011146023171022534},\"kind\":\"topic_summary\",\"name\":\"BooksAndLiterature>TravelBooks\"},{\"value\":{\"relevance\":0.001105545787140727},\"kind\":\"topic_summary\",\"name\":\"Food&Drink>Non-AlcoholicBeverages\"},{\"value\":{\"relevance\":0.0009313489426858723},\"kind\":\"topic_summary\",\"name\":\"EventsAndAttractions>Bars&Restaurants\"},{\"value\":{\"relevance\":0.0009313232731074095},\"kind\":\"topic_summary\",\"name\":\"Food&Drink>DessertsAndBaking\"},{\"value\":{\"relevance\":0.000768807833082974},\"kind\":\"topic_summary\",\"name\":\"BooksAndLiterature>Cookbooks\"},{\"value\":{\"relevance\":0.0006986003718338907},\"kind\":\"topic_summary\",\"name\":\"Travel>TravelType>Bed&Breakfasts\"},{\"value\":{\"relevance\":0.0006767101585865021},\"kind\":\"topic_summary\",\"name\":\"Food&Drink>Cooking\"},{\"value\":{\"relevance\":0.0006624331581406295},\"kind\":\"topic_summary\",\"name\":\"Travel>TravelPreparationAndAdvice\"},{\"value\":{\"relevance\":0.0006617934559471905},\"kind\":\"topic_summary\",\"name\":\"Automotive>AutoType>BudgetCars\"},{\"value\":{\"relevance\":0.0006110318354330957},\"kind\":\"topic_summary\",\"name\":\"Automotive>AutoType>LuxuryCars\"},{\"value\":{\"relevance\":0.0005625027697533369},\"kind\":\"topic_summary\",\"name\":\"MusicAndAudio>AdultAlbumAlternative\"},{\"value\":{\"relevance\":0.0005146816838532686},\"kind\":\"topic_summary\",\"name\":\"Movies>IndieAndArthouseMovies\"},{\"value\":{\"relevance\":0.0004974848125129938},\"kind\":\"topic_summary\",\"name\":\"Sports>ExtremeSports>CanoeingAndKayaking\"},{\"value\":{\"span_text\":\"Hello.\",\"confidence\":0.5208578109741211},\"kind\":\"sentiments\",\"endIdx\":6,\"name\":\"NEUTRAL\",\"startIdx\":0},{\"value\":{\"span_text\":\"I love hot coffee.\",\"confidence\":0.9813924431800842},\"kind\":\"sentiments\",\"endIdx\":25,\"name\":\"POSITIVE\",\"startIdx\":7},{\"value\":{\"confidence\":0.9627646803855896,\"span_text\":\"I hate cold coffee.\"},\"kind\":\"sentiments\",\"endIdx\":45,\"name\":\"NEGATIVE\",\"startIdx\":26},{\"value\":{\"confidence\":0.9095913767814636,\"span_text\":\"I\\'d like to go to Paris.\"},\"kind\":\"sentiments\",\"endIdx\":70,\"name\":\"POSITIVE\",\"startIdx\":46},{\"value\":{\"start_time\":730,\"end_time\":5410,\"headline\":\"I want to go to Paris.\",\"gist\":\"Hello hello hello hello hello hello.\",\"summary\":\"I love hot coffee, but I hate cold coffee. I want to go to Paris.\"},\"kind\":\"chapter\",\"endIdx\":5410,\"name\":\"0\",\"startIdx\":730},{\"value\":{\"value\":\"Paris\"},\"kind\":\"entities\",\"endIdx\":5410,\"name\":\"location\",\"startIdx\":5264}],\"text\":\"Hello. I love hot coffee. I hate cold coffee. I\\'d like to go to Paris.\"}],\"tags\":[]}}', state='succeeded', status_message=None, status_suggestion=None, status_code=None, status_created_on=None, task_type='internalApi', task_executor=None, task_created_on='2022-08-30T23:02:31Z', task_last_modified_on='2022-08-30T23:02:53Z', remote_status_input={'transcription_id': 'ofkpmd702k-c165-437c-9010-0c1185a2f78a'}, remote_status_output=None, remote_status_message='Transcription job ongoing.', assigned_worker='engine', started_at='2022-08-30T23:02:53Z', max_retries=50, retries=4)"
     },
     "execution_count": 38,
     "metadata": {},
     "output_type": "execute_result"
    }
   ],
   "source": [
    "blockify_task.task"
   ],
   "metadata": {
    "collapsed": false,
    "pycharm": {
     "name": "#%%\n"
    }
   }
  },
  {
   "cell_type": "code",
   "execution_count": 40,
   "metadata": {
    "pycharm": {
     "name": "#%%\n"
    }
   },
   "outputs": [
    {
     "name": "stdout",
     "output_type": "stream",
     "text": [
      "Hello. I love hot coffee. I hate cold coffee. I'd like to go to Paris.\n",
      "- speaker / A\n",
      "- timestamp / Hello.\n",
      "- timestamp / I\n",
      "- timestamp / love\n",
      "- timestamp / hot\n",
      "- timestamp / coffee.\n",
      "- timestamp / I\n",
      "- timestamp / hate\n",
      "- timestamp / cold\n",
      "- timestamp / coffee.\n",
      "- timestamp / I'd\n",
      "- timestamp / like\n",
      "- timestamp / to\n",
      "- timestamp / go\n",
      "- timestamp / to\n",
      "- timestamp / Paris.\n",
      "- topic / Food&Drink>DiningOut\n",
      "- topic / Food&Drink>WorldCuisines\n",
      "- topic / BusinessAndFinance>Industries>HospitalityIndustry\n",
      "- topic / Food&Drink\n",
      "- topic / Travel>TravelLocations>SouthAmericaTravel\n",
      "- topic / BusinessAndFinance>Economy>GasolinePrices\n",
      "- topic / Automotive>AutoType>ConceptCars\n",
      "- topic / BooksAndLiterature>TravelBooks\n",
      "- topic / Food&Drink>Non-AlcoholicBeverages\n",
      "- topic / EventsAndAttractions>Bars&Restaurants\n",
      "- topic_summary / Food&Drink>DiningOut\n",
      "- topic_summary / Food&Drink>WorldCuisines\n",
      "- topic_summary / BusinessAndFinance>Industries>HospitalityIndustry\n",
      "- topic_summary / Food&Drink\n",
      "- topic_summary / Travel>TravelLocations>SouthAmericaTravel\n",
      "- topic_summary / BusinessAndFinance>Economy>GasolinePrices\n",
      "- topic_summary / Automotive>AutoType>ConceptCars\n",
      "- topic_summary / BooksAndLiterature>TravelBooks\n",
      "- topic_summary / Food&Drink>Non-AlcoholicBeverages\n",
      "- topic_summary / EventsAndAttractions>Bars&Restaurants\n",
      "- topic_summary / Food&Drink>DessertsAndBaking\n",
      "- topic_summary / BooksAndLiterature>Cookbooks\n",
      "- topic_summary / Travel>TravelType>Bed&Breakfasts\n",
      "- topic_summary / Food&Drink>Cooking\n",
      "- topic_summary / Travel>TravelPreparationAndAdvice\n",
      "- topic_summary / Automotive>AutoType>BudgetCars\n",
      "- topic_summary / Automotive>AutoType>LuxuryCars\n",
      "- topic_summary / MusicAndAudio>AdultAlbumAlternative\n",
      "- topic_summary / Movies>IndieAndArthouseMovies\n",
      "- topic_summary / Sports>ExtremeSports>CanoeingAndKayaking\n",
      "- sentiments / NEUTRAL\n",
      "- sentiments / POSITIVE\n",
      "- sentiments / NEGATIVE\n",
      "- sentiments / POSITIVE\n",
      "- chapter / 0\n",
      "- entities / location\n"
     ]
    }
   ],
   "source": [
    "for block in blockify_task.data.file.blocks:\n",
    "    print(block.text)\n",
    "    for tag in block.tags:\n",
    "        print(f\"- {tag.kind} / {tag.name}\")"
   ]
  },
  {
   "cell_type": "code",
   "execution_count": null,
   "metadata": {
    "pycharm": {
     "name": "#%%\n"
    }
   },
   "outputs": [],
   "source": [
    "# Query - Get just the spam\n",
    "spam_blocks = Block.query(client=ship, tag_filter_query='blocktag and name \"spam\"').data.blocks\n",
    "print(\"SPAM\\n====\")\n",
    "for block in spam_blocks:\n",
    "    print(f\"- {block.text}\")"
   ]
  },
  {
   "cell_type": "code",
   "execution_count": null,
   "metadata": {
    "pycharm": {
     "name": "#%%\n"
    }
   },
   "outputs": [],
   "source": []
  }
 ],
 "metadata": {
  "kernelspec": {
   "display_name": "Python 3",
   "language": "python",
   "name": "python3"
  },
  "language_info": {
   "codemirror_mode": {
    "name": "ipython",
    "version": 2
   },
   "file_extension": ".py",
   "mimetype": "text/x-python",
   "name": "python",
   "nbconvert_exporter": "python",
   "pygments_lexer": "ipython2",
   "version": "2.7.6"
  }
 },
 "nbformat": 4,
 "nbformat_minor": 0
}